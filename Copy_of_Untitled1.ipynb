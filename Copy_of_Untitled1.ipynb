version https://git-lfs.github.com/spec/v1
oid sha256:7be9676749a25e802078e69c4b6d671cd71763cc0d2b6affd2f5d3a8b7e9f2f4
size 185142
